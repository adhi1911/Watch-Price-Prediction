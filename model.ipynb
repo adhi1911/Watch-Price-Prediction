{
 "cells": [
  {
   "cell_type": "code",
   "execution_count": 65,
   "metadata": {},
   "outputs": [],
   "source": [
    "import numpy as np\n",
    "import pandas as pd\n"
   ]
  },
  {
   "cell_type": "code",
   "execution_count": 66,
   "metadata": {},
   "outputs": [],
   "source": [
    "from sklearn.model_selection import train_test_split\n",
    "from sklearn.metrics import accuracy_score\n",
    "from sklearn.metrics import mean_squared_error\n",
    "from sklearn.metrics import r2_score"
   ]
  },
  {
   "cell_type": "code",
   "execution_count": 67,
   "metadata": {},
   "outputs": [],
   "source": [
    "from sklearn.linear_model import LinearRegression\n",
    "from sklearn.tree import DecisionTreeRegressor\n",
    "from sklearn.ensemble import RandomForestRegressor, GradientBoostingRegressor"
   ]
  },
  {
   "cell_type": "code",
   "execution_count": 75,
   "metadata": {},
   "outputs": [],
   "source": [
    "from catboost import CatBoostRegressor"
   ]
  },
  {
   "cell_type": "code",
   "execution_count": 82,
   "metadata": {},
   "outputs": [],
   "source": [
    "data = pd.read_csv('data/smartwatches_cleaned.csv')"
   ]
  },
  {
   "cell_type": "code",
   "execution_count": 83,
   "metadata": {},
   "outputs": [
    {
     "data": {
      "text/plain": [
       "(388, 36)"
      ]
     },
     "execution_count": 83,
     "metadata": {},
     "output_type": "execute_result"
    }
   ],
   "source": [
    "data.shape"
   ]
  },
  {
   "cell_type": "code",
   "execution_count": 84,
   "metadata": {},
   "outputs": [],
   "source": [
    "data.drop(['Unnamed: 0'], axis=1, inplace=True)"
   ]
  },
  {
   "cell_type": "code",
   "execution_count": 85,
   "metadata": {},
   "outputs": [],
   "source": [
    "# data.head()"
   ]
  },
  {
   "cell_type": "code",
   "execution_count": 86,
   "metadata": {},
   "outputs": [
    {
     "name": "stdout",
     "output_type": "stream",
     "text": [
      "train_df: (310, 34)\n",
      "test_df: (78, 34)\n",
      "train_target: (310,)\n",
      "test_target: (78,)\n"
     ]
    }
   ],
   "source": [
    "X = data.drop(['Discount Price'], axis=1)\n",
    "y = data['Discount Price']\n",
    "\n",
    "X_train, X_test, y_train , y_test = train_test_split(X, y, test_size=0.2, random_state=42)\n",
    "\n",
    "print(f'train_df: {X_train.shape}')\n",
    "print(f'test_df: {X_test.shape}')\n",
    "print(f'train_target: {y_train.shape}')\n",
    "print(f'test_target: {y_test.shape}')"
   ]
  },
  {
   "cell_type": "code",
   "execution_count": 87,
   "metadata": {},
   "outputs": [],
   "source": [
    "regressors = [\n",
    "    LinearRegression(),\n",
    "    DecisionTreeRegressor(),\n",
    "    RandomForestRegressor(),\n",
    "    GradientBoostingRegressor(),\n",
    "    CatBoostRegressor(verbose=0),\n",
    "]"
   ]
  },
  {
   "cell_type": "code",
   "execution_count": 88,
   "metadata": {},
   "outputs": [
    {
     "name": "stdout",
     "output_type": "stream",
     "text": [
      "LinearRegression:\n",
      "  MAE: 5351097.249935576\n",
      "  MSE: 5351097.249935576\n",
      "  R2: 0.615234742627797\n",
      "\n",
      "DecisionTreeRegressor:\n",
      "  MAE: 1221333.4487179487\n",
      "  MSE: 1221333.4487179487\n",
      "  R2: 0.9121812486702798\n",
      "\n",
      "RandomForestRegressor:\n",
      "  MAE: 1021733.1672307692\n",
      "  MSE: 1021733.1672307692\n",
      "  R2: 0.9265333058448908\n",
      "\n",
      "GradientBoostingRegressor:\n",
      "  MAE: 574099.2064682196\n",
      "  MSE: 574099.2064682196\n",
      "  R2: 0.958719974873082\n",
      "\n",
      "CatBoostRegressor:\n",
      "  MAE: 624576.5045401483\n",
      "  MSE: 624576.5045401483\n",
      "  R2: 0.9550904556031169\n",
      "\n"
     ]
    }
   ],
   "source": [
    "results = {}\n",
    "\n",
    "for regressor in regressors:\n",
    "    model_name = regressor.__class__.__name__\n",
    "    regressor.fit(X_train, y_train)\n",
    "    y_pred = regressor.predict(X_test)\n",
    "    \n",
    "    # Calculate metrics\n",
    "    mae = mean_squared_error(y_test, y_pred)\n",
    "    mse = mean_squared_error(y_test, y_pred)\n",
    "    r2 = r2_score(y_test, y_pred)\n",
    "    \n",
    "    # Store metrics\n",
    "    results[model_name] = {'MAE': mae, 'MSE': mse, 'R2': r2}\n",
    "\n",
    "# Display results\n",
    "for model_name, metrics in results.items():\n",
    "    print(f\"{model_name}:\")\n",
    "    for metric_name, metric_value in metrics.items():\n",
    "        print(f\"  {metric_name}: {metric_value}\")\n",
    "    print()"
   ]
  },
  {
   "cell_type": "markdown",
   "metadata": {},
   "source": [
    "### We will use GradientBoostingRegressor"
   ]
  }
 ],
 "metadata": {
  "kernelspec": {
   "display_name": "Python 3",
   "language": "python",
   "name": "python3"
  },
  "language_info": {
   "codemirror_mode": {
    "name": "ipython",
    "version": 3
   },
   "file_extension": ".py",
   "mimetype": "text/x-python",
   "name": "python",
   "nbconvert_exporter": "python",
   "pygments_lexer": "ipython3",
   "version": "3.11.3"
  }
 },
 "nbformat": 4,
 "nbformat_minor": 2
}
